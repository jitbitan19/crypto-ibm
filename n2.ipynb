{
 "cells": [
  {
   "cell_type": "markdown",
   "metadata": {},
   "source": [
    "# Installs"
   ]
  },
  {
   "cell_type": "code",
   "execution_count": null,
   "metadata": {},
   "outputs": [
    {
     "ename": "",
     "evalue": "",
     "output_type": "error",
     "traceback": [
      "\u001b[1;31mRunning cells with '.venv (Python 3.12.3)' requires the ipykernel package.\n",
      "\u001b[1;31mRun the following command to install 'ipykernel' into the Python environment. \n",
      "\u001b[1;31mCommand: '/Users/jitbitan/Documents/Cryptography/Packaging/.venv/bin/python -m pip install ipykernel -U --force-reinstall'"
     ]
    }
   ],
   "source": [
    "%pip install pycryptodome\n",
    "%pip install cryptography"
   ]
  },
  {
   "cell_type": "markdown",
   "metadata": {},
   "source": [
    "# Hashing"
   ]
  },
  {
   "cell_type": "markdown",
   "metadata": {},
   "source": [
    "## using pycryptodome"
   ]
  },
  {
   "cell_type": "code",
   "execution_count": null,
   "metadata": {},
   "outputs": [
    {
     "ename": "",
     "evalue": "",
     "output_type": "error",
     "traceback": [
      "\u001b[1;31mRunning cells with '.venv (Python 3.12.3)' requires the ipykernel package.\n",
      "\u001b[1;31mRun the following command to install 'ipykernel' into the Python environment. \n",
      "\u001b[1;31mCommand: '/Users/jitbitan/Documents/Cryptography/Packaging/.venv/bin/python -m pip install ipykernel -U --force-reinstall'"
     ]
    }
   ],
   "source": [
    "from Crypto.Hash import SHA3_256, BLAKE2s, RIPEMD160, keccak\n",
    "\n",
    "msg = \"Hello\"\n",
    "h1 = SHA3_256.new()\n",
    "h2 = BLAKE2s.new()\n",
    "h3 = RIPEMD160.new()\n",
    "h4 = keccak.new(digest_bits=512)\n",
    "\n",
    "h1.update(msg.encode())\n",
    "h2.update(msg.encode())\n",
    "h3.update(msg.encode())\n",
    "h4.update(msg.encode())\n",
    "\n",
    "print(f\"SHA3-256   of '{msg}': {h1.hexdigest()}\")\n",
    "print(f\"BLAKE2s    of '{msg}': {h2.hexdigest()}\")\n",
    "print(f\"RIPEMD160  of '{msg}': {h3.hexdigest()}\")\n",
    "print(f\"Keccak-512 of '{msg}': {h4.hexdigest()}\")"
   ]
  },
  {
   "cell_type": "markdown",
   "metadata": {},
   "source": [
    "## using Hashlib"
   ]
  },
  {
   "cell_type": "code",
   "execution_count": null,
   "metadata": {},
   "outputs": [
    {
     "ename": "",
     "evalue": "",
     "output_type": "error",
     "traceback": [
      "\u001b[1;31mRunning cells with '.venv (Python 3.12.3)' requires the ipykernel package.\n",
      "\u001b[1;31mRun the following command to install 'ipykernel' into the Python environment. \n",
      "\u001b[1;31mCommand: '/Users/jitbitan/Documents/Cryptography/Packaging/.venv/bin/python -m pip install ipykernel -U --force-reinstall'"
     ]
    }
   ],
   "source": [
    "import hashlib\n",
    "\n",
    "msg = \"Hello\"\n",
    "\n",
    "# print(hashlib.algorithms_available)\n",
    "h1 = hashlib.new('sha3_512')\n",
    "h2 = hashlib.new('blake2s')\n",
    "h3 = hashlib.new('ripemd160')\n",
    "\n",
    "h1.update(msg.encode())\n",
    "h2.update(msg.encode())\n",
    "h3.update(msg.encode())\n",
    "\n",
    "print(f\"SHA3-256   of '{msg}': {h1.hexdigest()}\")\n",
    "print(f\"BLAKE2s    of '{msg}': {h2.hexdigest()}\")\n",
    "print(f\"RIPEMD160  of '{msg}': {h3.hexdigest()}\")"
   ]
  },
  {
   "cell_type": "markdown",
   "metadata": {},
   "source": [
    "# Diffie-Hellman Key Exchange with sign"
   ]
  },
  {
   "cell_type": "code",
   "execution_count": null,
   "metadata": {},
   "outputs": [
    {
     "ename": "",
     "evalue": "",
     "output_type": "error",
     "traceback": [
      "\u001b[1;31mRunning cells with '.venv (Python 3.12.3)' requires the ipykernel package.\n",
      "\u001b[1;31mRun the following command to install 'ipykernel' into the Python environment. \n",
      "\u001b[1;31mCommand: '/Users/jitbitan/Documents/Cryptography/Packaging/.venv/bin/python -m pip install ipykernel -U --force-reinstall'"
     ]
    }
   ],
   "source": [
    "from cryptography.hazmat.primitives import hashes\n",
    "from cryptography.hazmat.primitives.asymmetric import dh, dsa\n",
    "from cryptography.hazmat.primitives.kdf.hkdf import HKDF\n",
    "from cryptography.hazmat.primitives import serialization\n"
   ]
  },
  {
   "cell_type": "code",
   "execution_count": null,
   "metadata": {},
   "outputs": [
    {
     "ename": "",
     "evalue": "",
     "output_type": "error",
     "traceback": [
      "\u001b[1;31mRunning cells with '.venv (Python 3.12.3)' requires the ipykernel package.\n",
      "\u001b[1;31mRun the following command to install 'ipykernel' into the Python environment. \n",
      "\u001b[1;31mCommand: '/Users/jitbitan/Documents/Cryptography/Packaging/.venv/bin/python -m pip install ipykernel -U --force-reinstall'"
     ]
    }
   ],
   "source": [
    "param = dh.generate_parameters(generator=2, key_size=2048)\n",
    "pvt1 = param.generate_private_key()\n",
    "pub1 = pvt1.public_key()\n",
    "pvt2 = param.generate_private_key()\n",
    "pub2 = pvt2.public_key()\n",
    "print(f\"Pvt-Pub key pair for encryption generated for both parties\")"
   ]
  },
  {
   "cell_type": "code",
   "execution_count": null,
   "metadata": {},
   "outputs": [
    {
     "ename": "",
     "evalue": "",
     "output_type": "error",
     "traceback": [
      "\u001b[1;31mRunning cells with '.venv (Python 3.12.3)' requires the ipykernel package.\n",
      "\u001b[1;31mRun the following command to install 'ipykernel' into the Python environment. \n",
      "\u001b[1;31mCommand: '/Users/jitbitan/Documents/Cryptography/Packaging/.venv/bin/python -m pip install ipykernel -U --force-reinstall'"
     ]
    }
   ],
   "source": [
    "sign_pvt1 = dsa.generate_private_key(key_size=2048)\n",
    "sign_pub1 = sign_pvt1.public_key()\n",
    "sign_pvt2 = dsa.generate_private_key(key_size=2048)\n",
    "sign_pub2 = sign_pvt2.public_key()\n",
    "print(f\"Signing key generated for both parties\")"
   ]
  },
  {
   "cell_type": "code",
   "execution_count": null,
   "metadata": {},
   "outputs": [
    {
     "ename": "",
     "evalue": "",
     "output_type": "error",
     "traceback": [
      "\u001b[1;31mRunning cells with '.venv (Python 3.12.3)' requires the ipykernel package.\n",
      "\u001b[1;31mRun the following command to install 'ipykernel' into the Python environment. \n",
      "\u001b[1;31mCommand: '/Users/jitbitan/Documents/Cryptography/Packaging/.venv/bin/python -m pip install ipykernel -U --force-reinstall'"
     ]
    }
   ],
   "source": [
    "pub1_bytes = pub1.public_bytes(\n",
    "    encoding=serialization.Encoding.PEM,\n",
    "    format=serialization.PublicFormat.SubjectPublicKeyInfo,\n",
    ")\n",
    "pub2_bytes = pub2.public_bytes(\n",
    "    encoding=serialization.Encoding.PEM,\n",
    "    format=serialization.PublicFormat.SubjectPublicKeyInfo,\n",
    ")\n",
    "sign1 = sign_pvt1.sign(pub1_bytes, hashes.SHA3_256())\n",
    "sign2 = sign_pvt2.sign(pub2_bytes, hashes.SHA3_256())\n",
    "print(f\"Signatures generated\")"
   ]
  },
  {
   "cell_type": "code",
   "execution_count": null,
   "metadata": {},
   "outputs": [
    {
     "ename": "",
     "evalue": "",
     "output_type": "error",
     "traceback": [
      "\u001b[1;31mRunning cells with '.venv (Python 3.12.3)' requires the ipykernel package.\n",
      "\u001b[1;31mRun the following command to install 'ipykernel' into the Python environment. \n",
      "\u001b[1;31mCommand: '/Users/jitbitan/Documents/Cryptography/Packaging/.venv/bin/python -m pip install ipykernel -U --force-reinstall'"
     ]
    }
   ],
   "source": [
    "sign_pub1.verify(\n",
    "    signature=sign1,\n",
    "    data=pub1_bytes,\n",
    "    algorithm=hashes.SHA3_256(),\n",
    ")\n",
    "sign_pub2.verify(\n",
    "    signature=sign2,\n",
    "    data=pub2_bytes,\n",
    "    algorithm=hashes.SHA3_256(),\n",
    ")\n",
    "print(\"Signatures verified\")"
   ]
  },
  {
   "cell_type": "code",
   "execution_count": null,
   "metadata": {},
   "outputs": [
    {
     "ename": "",
     "evalue": "",
     "output_type": "error",
     "traceback": [
      "\u001b[1;31mRunning cells with '.venv (Python 3.12.3)' requires the ipykernel package.\n",
      "\u001b[1;31mRun the following command to install 'ipykernel' into the Python environment. \n",
      "\u001b[1;31mCommand: '/Users/jitbitan/Documents/Cryptography/Packaging/.venv/bin/python -m pip install ipykernel -U --force-reinstall'"
     ]
    }
   ],
   "source": [
    "shared1 = pvt1.exchange(pub2)\n",
    "shared2 = pvt2.exchange(pub1)\n",
    "print(f\" Shared secrets match: {shared1==shared2}\")"
   ]
  },
  {
   "cell_type": "markdown",
   "metadata": {},
   "source": [
    "# Key Derivation"
   ]
  },
  {
   "cell_type": "markdown",
   "metadata": {},
   "source": [
    "## PBKDF2"
   ]
  },
  {
   "cell_type": "code",
   "execution_count": null,
   "metadata": {},
   "outputs": [
    {
     "ename": "",
     "evalue": "",
     "output_type": "error",
     "traceback": [
      "\u001b[1;31mRunning cells with '.venv (Python 3.12.3)' requires the ipykernel package.\n",
      "\u001b[1;31mRun the following command to install 'ipykernel' into the Python environment. \n",
      "\u001b[1;31mCommand: '/Users/jitbitan/Documents/Cryptography/Packaging/.venv/bin/python -m pip install ipykernel -U --force-reinstall'"
     ]
    }
   ],
   "source": [
    "from Crypto.Protocol.KDF import PBKDF2\n",
    "from Crypto.Hash import SHA3_512\n",
    "from Crypto.Random import get_random_bytes\n",
    "\n",
    "password_ = \"a secret\"\n",
    "salt_ = get_random_bytes(16)\n",
    "key = PBKDF2(\n",
    "    password=password_,\n",
    "    salt=salt_,\n",
    "    dkLen=64,\n",
    "    count=1000000,\n",
    "    hmac_hash_module=SHA3_512,\n",
    ")\n",
    "print(f\"Password: {password_}\")\n",
    "print(f\"Random salt: {salt_.hex()}\")\n",
    "print(f\"Key: {key.hex()}\")"
   ]
  },
  {
   "cell_type": "markdown",
   "metadata": {},
   "source": [
    "## Scrypt"
   ]
  },
  {
   "cell_type": "code",
   "execution_count": null,
   "metadata": {},
   "outputs": [
    {
     "ename": "",
     "evalue": "",
     "output_type": "error",
     "traceback": [
      "\u001b[1;31mRunning cells with '.venv (Python 3.12.3)' requires the ipykernel package.\n",
      "\u001b[1;31mRun the following command to install 'ipykernel' into the Python environment. \n",
      "\u001b[1;31mCommand: '/Users/jitbitan/Documents/Cryptography/Packaging/.venv/bin/python -m pip install ipykernel -U --force-reinstall'"
     ]
    }
   ],
   "source": [
    "from Crypto.Protocol.KDF import scrypt\n",
    "from Crypto.Random import get_random_bytes\n",
    "\n",
    "password_ = \"some secret\"\n",
    "salt_ = get_random_bytes(16)\n",
    "key = scrypt(\n",
    "    password=password_,\n",
    "    salt=salt_,\n",
    "    key_len=64,\n",
    "    N=(1 << 10),\n",
    "    r=8,\n",
    "    p=1,\n",
    ")\n",
    "print(f\"Password: {password_}\")\n",
    "print(f\"Random salt: {salt_.hex()}\")\n",
    "print(f\"Key: {key.hex()}\")"
   ]
  },
  {
   "cell_type": "markdown",
   "metadata": {},
   "source": [
    "# Encryption and Decryption"
   ]
  },
  {
   "cell_type": "markdown",
   "metadata": {},
   "source": [
    "## AES-256-GCM"
   ]
  },
  {
   "cell_type": "code",
   "execution_count": 20,
   "metadata": {},
   "outputs": [
    {
     "name": "stdout",
     "output_type": "stream",
     "text": [
      "Cipher text: d10e4c54171c5d83529780550a42b6f0a459ea6674c5ba3cd142e25cc0e8d46d0cae\n",
      "Auth Tag: 8b9cf78879f8f0ebab2ec796bfa290bb\n",
      "Nonce: 19b0f3ea10de3c9e15980ceae412c1d0\n",
      "Password: something\n",
      "Tag verified!\n",
      "Plain text: Message for aes-256-gcm encryption\n"
     ]
    }
   ],
   "source": [
    "from Crypto.Cipher import AES\n",
    "import hashlib\n",
    "\n",
    "msg = \"Message for aes-256-gcm encryption\"\n",
    "pwd = \"something\"\n",
    "hasher = hashlib.new('sha3_256')\n",
    "hasher.update(pwd.encode())\n",
    "pwd_hash = hasher.digest()\n",
    "\n",
    "aes_cipher = AES.new(pwd_hash, AES.MODE_GCM)\n",
    "ct, auth_tag = aes_cipher.encrypt_and_digest(msg.encode())\n",
    "iv = aes_cipher.nonce\n",
    "\n",
    "aes_decipher = AES.new(pwd_hash, AES.MODE_GCM, iv)\n",
    "pt = aes_decipher.decrypt(ct)\n",
    "\n",
    "print(f\"Cipher text: {ct.hex()}\")\n",
    "print(f\"Auth Tag: {auth_tag.hex()}\")\n",
    "print(f\"Nonce: {iv.hex()}\")\n",
    "print(f\"Password: {pwd}\")\n",
    "\n",
    "try:\n",
    "    aes_decipher.verify(auth_tag)\n",
    "    print(f\"Tag verified!\")\n",
    "    print(f\"Plain text: {pt.decode()}\")\n",
    "except:\n",
    "    print(f\"Msg tampered!\")\n",
    "    print(f\"Plain text: {pt}\")\n"
   ]
  },
  {
   "cell_type": "markdown",
   "metadata": {},
   "source": [
    "## AES-256-CBC"
   ]
  },
  {
   "cell_type": "code",
   "execution_count": null,
   "metadata": {},
   "outputs": [
    {
     "ename": "",
     "evalue": "",
     "output_type": "error",
     "traceback": [
      "\u001b[1;31mRunning cells with '.venv (Python 3.12.3)' requires the ipykernel package.\n",
      "\u001b[1;31mRun the following command to install 'ipykernel' into the Python environment. \n",
      "\u001b[1;31mCommand: '/Users/jitbitan/Documents/Cryptography/Packaging/.venv/bin/python -m pip install ipykernel -U --force-reinstall'"
     ]
    }
   ],
   "source": [
    "from Crypto.Cipher import AES\n",
    "from Crypto.Util.Padding import pad, unpad\n",
    "\n",
    "msg = \"Message for aes-256-cbc encryption\"\n",
    "pwd = \"something\"\n",
    "hasher = hashlib.new(\"sha256\")\n",
    "hasher.update(pwd.encode())\n",
    "pwd_hash = hasher.digest()\n",
    "\n",
    "aes_cipher = AES.new(pwd_hash, AES.MODE_CBC)\n",
    "ct = aes_cipher.encrypt(pad(msg.encode(), AES.block_size, style=\"pkcs7\"))\n",
    "iv = aes_cipher.iv\n",
    "\n",
    "aes_decipher = AES.new(pwd_hash, AES.MODE_CBC, iv)\n",
    "pt = unpad(aes_decipher.decrypt(ct), AES.block_size, \"pkcs7\")\n",
    "\n",
    "print(f\"Cipher text: {ct.hex()}\")\n",
    "print(f\"IV: {iv.hex()}\")\n",
    "print(f\"Password: {pwd}\")\n",
    "print(f\"Pwd hash: {pwd_hash.hex()}\")\n",
    "print(f\"Plain Text: {pt}\")"
   ]
  },
  {
   "cell_type": "markdown",
   "metadata": {},
   "source": [
    "## AES-256-CTR"
   ]
  },
  {
   "cell_type": "code",
   "execution_count": 17,
   "metadata": {},
   "outputs": [
    {
     "ename": "NameError",
     "evalue": "name 'hashlib' is not defined",
     "output_type": "error",
     "traceback": [
      "\u001b[0;31m---------------------------------------------------------------------------\u001b[0m",
      "\u001b[0;31mNameError\u001b[0m                                 Traceback (most recent call last)",
      "Cell \u001b[0;32mIn[17], line 5\u001b[0m\n\u001b[1;32m      3\u001b[0m msg \u001b[38;5;241m=\u001b[39m \u001b[38;5;124m\"\u001b[39m\u001b[38;5;124mMessage for aes-256-cbc encryption\u001b[39m\u001b[38;5;124m\"\u001b[39m\n\u001b[1;32m      4\u001b[0m pwd \u001b[38;5;241m=\u001b[39m \u001b[38;5;124m\"\u001b[39m\u001b[38;5;124msomething\u001b[39m\u001b[38;5;124m\"\u001b[39m\n\u001b[0;32m----> 5\u001b[0m hasher \u001b[38;5;241m=\u001b[39m \u001b[43mhashlib\u001b[49m\u001b[38;5;241m.\u001b[39mnew(\u001b[38;5;124m\"\u001b[39m\u001b[38;5;124msha3_256\u001b[39m\u001b[38;5;124m\"\u001b[39m)\n\u001b[1;32m      6\u001b[0m hasher\u001b[38;5;241m.\u001b[39mupdate(pwd\u001b[38;5;241m.\u001b[39mencode())\n\u001b[1;32m      7\u001b[0m pwd_hash \u001b[38;5;241m=\u001b[39m hasher\u001b[38;5;241m.\u001b[39mdigest()\n",
      "\u001b[0;31mNameError\u001b[0m: name 'hashlib' is not defined"
     ]
    }
   ],
   "source": [
    "from Crypto.Cipher import AES\n",
    "\n",
    "msg = \"Message for aes-256-cbc encryption\"\n",
    "pwd = \"something\"\n",
    "hasher = hashlib.new(\"sha3_256\")\n",
    "hasher.update(pwd.encode())\n",
    "pwd_hash = hasher.digest()\n",
    "\n",
    "aes_cipher = AES.new(pwd_hash, AES.MODE_CTR)\n",
    "ct = aes_cipher.encrypt(msg.encode())\n",
    "nonce = aes_cipher.nonce\n",
    "\n",
    "aes_decipher = AES.new(pwd_hash, AES.MODE_CTR, nonce=nonce)\n",
    "pt = aes_decipher.decrypt(ct)\n",
    "\n",
    "print(f\"Cipher text: {ct.hex()}\")\n",
    "print(f\"IV: {nonce.hex()}\")\n",
    "print(f\"Password: {pwd}\")\n",
    "print(f\"Plain Text: {pt}\")"
   ]
  },
  {
   "cell_type": "markdown",
   "metadata": {},
   "source": [
    "## DES"
   ]
  },
  {
   "cell_type": "code",
   "execution_count": null,
   "metadata": {},
   "outputs": [
    {
     "ename": "",
     "evalue": "",
     "output_type": "error",
     "traceback": [
      "\u001b[1;31mRunning cells with '.venv (Python 3.12.3)' requires the ipykernel package.\n",
      "\u001b[1;31mRun the following command to install 'ipykernel' into the Python environment. \n",
      "\u001b[1;31mCommand: '/Users/jitbitan/Documents/Cryptography/Packaging/.venv/bin/python -m pip install ipykernel -U --force-reinstall'"
     ]
    }
   ],
   "source": [
    "# from Crypto.Cipher import DES3\n",
    "\n",
    "\n",
    "# while True:\n",
    "#     try:\n",
    "#         key = DES3.adjust_key_parity(get_random_bytes(24))\n",
    "#     except:\n",
    "#         pass\n",
    "\n",
    "# des_cipher = DES3.new(key, DES3.MODE_CBC)\n"
   ]
  },
  {
   "cell_type": "markdown",
   "metadata": {},
   "source": [
    "## ChaCha20"
   ]
  },
  {
   "cell_type": "code",
   "execution_count": null,
   "metadata": {},
   "outputs": [
    {
     "ename": "",
     "evalue": "",
     "output_type": "error",
     "traceback": [
      "\u001b[1;31mRunning cells with '.venv (Python 3.12.3)' requires the ipykernel package.\n",
      "\u001b[1;31mRun the following command to install 'ipykernel' into the Python environment. \n",
      "\u001b[1;31mCommand: '/Users/jitbitan/Documents/Cryptography/Packaging/.venv/bin/python -m pip install ipykernel -U --force-reinstall'"
     ]
    }
   ],
   "source": [
    "from Crypto.Cipher import ChaCha20\n",
    "\n",
    "msg = \"Message for ChaCha20 encryption\"\n",
    "pwd = \"something\"\n",
    "hasher = hashlib.new(\"sha3_256\")\n",
    "hasher.update(pwd.encode())\n",
    "pwd_hash = hasher.digest()\n",
    "\n",
    "chacha_cipher = ChaCha20.new(key=pwd_hash)\n",
    "ct = chacha_cipher.encrypt(msg.encode())\n",
    "nonce = chacha_cipher.nonce\n",
    "\n",
    "chacha_decipher = ChaCha20.new(key=pwd_hash, nonce=chacha_cipher.nonce)\n",
    "pt = chacha_decipher.decrypt(ct)\n",
    "\n",
    "print(f\"Cipher text: {ct.hex()}\")\n",
    "print(f\"IV: {nonce.hex()}\")\n",
    "print(f\"Password: {pwd}\")\n",
    "print(f\"Plain Text: {pt}\")"
   ]
  },
  {
   "cell_type": "markdown",
   "metadata": {},
   "source": [
    "## RSA with PKCS1 OEAP"
   ]
  },
  {
   "cell_type": "code",
   "execution_count": null,
   "metadata": {},
   "outputs": [
    {
     "ename": "",
     "evalue": "",
     "output_type": "error",
     "traceback": [
      "\u001b[1;31mRunning cells with '.venv (Python 3.12.3)' requires the ipykernel package.\n",
      "\u001b[1;31mRun the following command to install 'ipykernel' into the Python environment. \n",
      "\u001b[1;31mCommand: '/Users/jitbitan/Documents/Cryptography/Packaging/.venv/bin/python -m pip install ipykernel -U --force-reinstall'"
     ]
    }
   ],
   "source": [
    "from Crypto.PublicKey import RSA\n",
    "from Crypto.Cipher import PKCS1_OAEP\n",
    "\n",
    "msg = \"Message for ChaCha20 encryption\"\n",
    "\n",
    "key_pair = RSA.generate(1024)\n",
    "pub_key = key_pair.public_key()\n",
    "# print(pub_key.export_key())\n",
    "\n",
    "n = key_pair.n\n",
    "e = key_pair.e\n",
    "d = key_pair.d\n",
    "\n",
    "key_pair1 = RSA.construct((n, e, d))\n",
    "key_pair2 = RSA.import_key(key_pair.export_key())\n",
    "# print(f\"Is key_pair == key pair_1: {key_pair==key_pair1}\")\n",
    "# print(f\"Is key_pair == key pair_2: {key_pair==key_pair2}\")\n",
    "\n",
    "rsa_cipher = PKCS1_OAEP.new(key=pub_key)\n",
    "ct = rsa_cipher.encrypt(msg.encode())\n",
    "\n",
    "rsa_decipher = PKCS1_OAEP.new(key=key_pair)\n",
    "pt = rsa_decipher.decrypt(ct)\n",
    "\n",
    "print(f\"Pub key: (n,e): ({pub_key.n},{pub_key.e})\")\n",
    "print(f\"Pvt key: (n,d): ({key_pair.n},{key_pair.d})\")\n",
    "print(f\"Cipher text: {ct.hex()}\")\n",
    "print(f\"Plain text: {pt}\")"
   ]
  },
  {
   "cell_type": "markdown",
   "metadata": {},
   "source": [
    "## ECC with AES-256-GCM (hybrid)"
   ]
  },
  {
   "cell_type": "code",
   "execution_count": null,
   "metadata": {},
   "outputs": [
    {
     "ename": "",
     "evalue": "",
     "output_type": "error",
     "traceback": [
      "\u001b[1;31mRunning cells with '.venv (Python 3.12.3)' requires the ipykernel package.\n",
      "\u001b[1;31mRun the following command to install 'ipykernel' into the Python environment. \n",
      "\u001b[1;31mCommand: '/Users/jitbitan/Documents/Cryptography/Packaging/.venv/bin/python -m pip install ipykernel -U --force-reinstall'"
     ]
    }
   ],
   "source": [
    "from Crypto.PublicKey import ECC\n",
    "from Crypto.PublicKey.ECC import EccPoint\n",
    "from Crypto.Hash import SHA3_256\n",
    "from Crypto.Cipher import AES\n",
    "\n",
    "# key_pair = ECC.generate(curve=\"p521\")\n",
    "# pub_key = key_pair.public_key()\n",
    "pvt1 = ECC.generate(curve=\"p521\")\n",
    "pvt2 = ECC.generate(curve=\"p521\")\n",
    "pub1 = pvt1.public_key()\n",
    "pub2 = pvt2.public_key()\n",
    "\n",
    "shared1 = pub2.pointQ * pvt1.d\n",
    "shared2 = pub1.pointQ * pvt2.d\n",
    "assert shared1 == shared2\n",
    "\n",
    "\n",
    "def get_key(a: EccPoint):\n",
    "    hasher = SHA3_256.new(a.x.to_bytes())\n",
    "    hasher.update(a.y.to_bytes())\n",
    "    return hasher.hexdigest()\n",
    "\n",
    "msg = \"I am ironman\"\n",
    "key = get_key(shared1)\n",
    "\n",
    "aes_cipher = AES.new(bytes.fromhex(key), AES.MODE_GCM)\n",
    "ct, auth_tag = aes_cipher.encrypt_and_digest(msg.encode())\n",
    "nonce_ = aes_cipher.nonce\n",
    "\n",
    "aes_decipher = AES.new(bytes.fromhex(key), AES.MODE_GCM, nonce=nonce_)\n",
    "pt = aes_decipher.decrypt(ct)\n",
    "\n",
    "try:\n",
    "    aes_decipher.verify(auth_tag)\n",
    "    print(f\"Msg verified: {pt}\")\n",
    "except:\n",
    "    print(f\"Msg not verified: {pt}\")\n"
   ]
  },
  {
   "cell_type": "markdown",
   "metadata": {},
   "source": [
    "# Signatures"
   ]
  },
  {
   "cell_type": "markdown",
   "metadata": {},
   "source": [
    "## with RSA, PKCS1 v1.5"
   ]
  },
  {
   "cell_type": "code",
   "execution_count": 4,
   "metadata": {},
   "outputs": [
    {
     "name": "stdout",
     "output_type": "stream",
     "text": [
      "Signature validity: True\n"
     ]
    }
   ],
   "source": [
    "from Crypto.Signature import PKCS1_v1_5\n",
    "from Crypto.Hash import SHA3_256\n",
    "from Crypto.PublicKey import RSA\n",
    "\n",
    "key = RSA.generate(1024)\n",
    "msg = \"I am inevitable\"\n",
    "\n",
    "pwd = b\"something\"\n",
    "with open(\"rsa_key.pem\", \"wb\") as f:\n",
    "    data = key.export_key(\n",
    "        passphrase=pwd,\n",
    "        pkcs=8,\n",
    "        protection=\"PBKDF2WithHMAC-SHA512AndAES256-CBC\",\n",
    "        prot_params={\"iteration_count\": 131072},\n",
    "    )\n",
    "    f.write(data)\n",
    "\n",
    "with open(\"rsa_key.pem\", \"rb\") as f:\n",
    "    data = f.read()\n",
    "    key_pair = RSA.import_key(data, pwd)\n",
    "\n",
    "# assert key_pair == key\n",
    "\n",
    "# Sender's side\n",
    "pub_key = key_pair.public_key()\n",
    "signer = PKCS1_v1_5.new(key_pair)\n",
    "sign = signer.sign(SHA3_256.new(msg.encode()))\n",
    "\n",
    "# Receiver's side\n",
    "validator = PKCS1_v1_5.new(pub_key)\n",
    "val = validator.verify(SHA3_256.new(msg.encode()), sign)\n",
    "print(f\"Signature validity: {val}\")"
   ]
  },
  {
   "cell_type": "markdown",
   "metadata": {},
   "source": [
    "## with ECC, DSS"
   ]
  },
  {
   "cell_type": "code",
   "execution_count": 2,
   "metadata": {},
   "outputs": [
    {
     "ename": "NameError",
     "evalue": "name 'key_pair' is not defined",
     "output_type": "error",
     "traceback": [
      "\u001b[0;31m---------------------------------------------------------------------------\u001b[0m",
      "\u001b[0;31mNameError\u001b[0m                                 Traceback (most recent call last)",
      "Cell \u001b[0;32mIn[2], line 24\u001b[0m\n\u001b[1;32m     21\u001b[0m msg1 \u001b[38;5;241m=\u001b[39m \u001b[38;5;124m\"\u001b[39m\u001b[38;5;124masdf\u001b[39m\u001b[38;5;124m\"\u001b[39m\n\u001b[1;32m     23\u001b[0m \u001b[38;5;66;03m# Sender's side\u001b[39;00m\n\u001b[0;32m---> 24\u001b[0m pub_key \u001b[38;5;241m=\u001b[39m \u001b[43mkey_pair\u001b[49m\u001b[38;5;241m.\u001b[39mpublic_key()\n\u001b[1;32m     25\u001b[0m signer \u001b[38;5;241m=\u001b[39m DSS\u001b[38;5;241m.\u001b[39mnew(key\u001b[38;5;241m=\u001b[39mkey_pair, mode\u001b[38;5;241m=\u001b[39m\u001b[38;5;124m\"\u001b[39m\u001b[38;5;124mfips-186-3\u001b[39m\u001b[38;5;124m\"\u001b[39m)\n\u001b[1;32m     26\u001b[0m sign \u001b[38;5;241m=\u001b[39m signer\u001b[38;5;241m.\u001b[39msign(SHA3_256\u001b[38;5;241m.\u001b[39mnew(msg\u001b[38;5;241m.\u001b[39mencode()))\n",
      "\u001b[0;31mNameError\u001b[0m: name 'key_pair' is not defined"
     ]
    }
   ],
   "source": [
    "from Crypto.PublicKey import ECC\n",
    "from Crypto.Hash import SHA3_256\n",
    "from Crypto.Signature import DSS\n",
    "\n",
    "ecc_key = ECC.generate(curve=\"p256\")\n",
    "\n",
    "# pwd = \"something\"\n",
    "# with open(\"ecc_key.pem\", \"wt\") as f:\n",
    "#     data = ecc_key.export_key(\n",
    "#         format=\"PEM\",\n",
    "#         # passphrase=pwd.encode(),\n",
    "#         # protection=\"PBKDF2WithHMAC-SHA512AndAES256-CBC\",\n",
    "#         # prot_params={\"iteration_count\": 131072},\n",
    "#     )\n",
    "#     f.write(data)\n",
    "# with open(\"ecc_key.pem\", \"rt\") as f:\n",
    "#     data = f.read()\n",
    "#     key_pair = ECC.import_key(data)\n",
    "\n",
    "msg = \"I am inevitable\"\n",
    "msg1 = \"asdf\"\n",
    "\n",
    "# Sender's side\n",
    "pub_key = key_pair.public_key()\n",
    "signer = DSS.new(key=key_pair, mode=\"fips-186-3\")\n",
    "sign = signer.sign(SHA3_256.new(msg.encode()))\n",
    "\n",
    "# Receiver's side\n",
    "verifier = DSS.new(key=pub_key, mode='fips-186-3')\n",
    "try:\n",
    "    verifier.verify(SHA3_256.new(msg.encode()), sign)\n",
    "    print(\"Signature is valid!\")\n",
    "except:\n",
    "    print(\"Invalid Sign\")"
   ]
  },
  {
   "cell_type": "code",
   "execution_count": 3,
   "metadata": {},
   "outputs": [
    {
     "name": "stdout",
     "output_type": "stream",
     "text": [
      "True\n",
      "True\n"
     ]
    }
   ],
   "source": [
    "msg = \"test message\"\n",
    "nn = \"jb\"\n",
    "\n",
    "pvt_key = ECC.generate(curve=\"p256\")\n",
    "pub_key = pvt_key.public_key()\n",
    "\n",
    "with open(f\"{nn}__ecc_pvt_key.pem\", \"wt\") as f:\n",
    "    f.write(pvt_key.export_key(format=\"PEM\"))\n",
    "with open(f\"{nn}__ecc_pub_key.pem\", \"wt\") as f:\n",
    "    f.write(pub_key.export_key(format=\"PEM\"))\n",
    "\n",
    "with open(f\"{nn}__ecc_pvt_key.pem\", \"rt\") as f:\n",
    "    key1 = ECC.import_key(f.read())\n",
    "with open(f\"{nn}__ecc_pub_key.pem\", \"rt\") as f:\n",
    "    key2 = ECC.import_key(f.read())\n",
    "\n",
    "print(pvt_key == key1)\n",
    "print(pub_key == key2)\n",
    "\n",
    "signer = DSS.new(key=key1, mode=\"fips-186-3\")\n",
    "sign = signer.sign(SHA3_256.new(msg.encode())).hex()\n"
   ]
  },
  {
   "cell_type": "code",
   "execution_count": 4,
   "metadata": {},
   "outputs": [
    {
     "name": "stdout",
     "output_type": "stream",
     "text": [
      "Signature is valid!\n"
     ]
    }
   ],
   "source": [
    "# Receiver's side\n",
    "verifier = DSS.new(key=key2, mode='fips-186-3')\n",
    "try:\n",
    "    verifier.verify(SHA3_256.new(msg.encode()), bytes.fromhex(sign))\n",
    "    print(\"Signature is valid!\")\n",
    "except:\n",
    "    print(\"Invalid Sign\")"
   ]
  },
  {
   "cell_type": "code",
   "execution_count": null,
   "metadata": {},
   "outputs": [],
   "source": []
  }
 ],
 "metadata": {
  "kernelspec": {
   "display_name": "Python 3",
   "language": "python",
   "name": "python3"
  },
  "language_info": {
   "codemirror_mode": {
    "name": "ipython",
    "version": 3
   },
   "file_extension": ".py",
   "mimetype": "text/x-python",
   "name": "python",
   "nbconvert_exporter": "python",
   "pygments_lexer": "ipython3",
   "version": "3.12.3"
  }
 },
 "nbformat": 4,
 "nbformat_minor": 2
}
