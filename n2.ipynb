{
 "cells": [
  {
   "cell_type": "markdown",
   "metadata": {},
   "source": [
    "# Installs"
   ]
  },
  {
   "cell_type": "code",
   "execution_count": 1,
   "metadata": {},
   "outputs": [
    {
     "name": "stdout",
     "output_type": "stream",
     "text": [
      "Requirement already satisfied: pycryptodome in /Library/Frameworks/Python.framework/Versions/3.12/lib/python3.12/site-packages (3.20.0)\n",
      "Note: you may need to restart the kernel to use updated packages.\n",
      "Requirement already satisfied: cryptography in /Library/Frameworks/Python.framework/Versions/3.12/lib/python3.12/site-packages (42.0.7)\n",
      "Requirement already satisfied: cffi>=1.12 in /Library/Frameworks/Python.framework/Versions/3.12/lib/python3.12/site-packages (from cryptography) (1.16.0)\n",
      "Requirement already satisfied: pycparser in /Library/Frameworks/Python.framework/Versions/3.12/lib/python3.12/site-packages (from cffi>=1.12->cryptography) (2.22)\n",
      "Note: you may need to restart the kernel to use updated packages.\n"
     ]
    }
   ],
   "source": [
    "%pip install pycryptodome\n",
    "%pip install cryptography"
   ]
  },
  {
   "cell_type": "markdown",
   "metadata": {},
   "source": [
    "# Hashing"
   ]
  },
  {
   "cell_type": "markdown",
   "metadata": {},
   "source": [
    "## using pycryptodome"
   ]
  },
  {
   "cell_type": "code",
   "execution_count": 2,
   "metadata": {},
   "outputs": [
    {
     "name": "stdout",
     "output_type": "stream",
     "text": [
      "SHA3-256   of 'Hello': 8ca66ee6b2fe4bb928a8e3cd2f508de4119c0895f22e011117e22cf9b13de7ef\n",
      "BLAKE2s    of 'Hello': f73a5fbf881f89b814871f46e26ad3fa37cb2921c5e8561618639015b3ccbb71\n",
      "RIPEMD160  of 'Hello': d44426aca8ae0a69cdbc4021c64fa5ad68ca32fe\n",
      "Keccak-512 of 'Hello': c33fede18a1ae53ddb8663710f8054866beb714044fce759790459996196f101d94dfc7bd8268577f7ee3d2f8ff0cef4004a9632227db84df62d2b40682d69e2\n"
     ]
    }
   ],
   "source": [
    "from Crypto.Hash import SHA3_256, BLAKE2s, RIPEMD160, keccak\n",
    "\n",
    "msg = \"Hello\"\n",
    "h1 = SHA3_256.new()\n",
    "h2 = BLAKE2s.new()\n",
    "h3 = RIPEMD160.new()\n",
    "h4 = keccak.new(digest_bits=512)\n",
    "\n",
    "h1.update(msg.encode())\n",
    "h2.update(msg.encode())\n",
    "h3.update(msg.encode())\n",
    "h4.update(msg.encode())\n",
    "\n",
    "print(f\"SHA3-256   of '{msg}': {h1.hexdigest()}\")\n",
    "print(f\"BLAKE2s    of '{msg}': {h2.hexdigest()}\")\n",
    "print(f\"RIPEMD160  of '{msg}': {h3.hexdigest()}\")\n",
    "print(f\"Keccak-512 of '{msg}': {h4.hexdigest()}\")"
   ]
  },
  {
   "cell_type": "markdown",
   "metadata": {},
   "source": [
    "## using Hashlib"
   ]
  },
  {
   "cell_type": "code",
   "execution_count": 3,
   "metadata": {},
   "outputs": [
    {
     "name": "stdout",
     "output_type": "stream",
     "text": [
      "SHA3-256   of 'Hello': 0b8a44ac991e2b263e8623cfbeefc1cffe8c1c0de57b3e2bf1673b4f35e660e89abd18afb7ac93cf215eba36dd1af67698d6c9ca3fdaaf734ffc4bd5a8e34627\n",
      "BLAKE2s    of 'Hello': f73a5fbf881f89b814871f46e26ad3fa37cb2921c5e8561618639015b3ccbb71\n",
      "RIPEMD160  of 'Hello': d44426aca8ae0a69cdbc4021c64fa5ad68ca32fe\n"
     ]
    }
   ],
   "source": [
    "import hashlib\n",
    "\n",
    "msg = \"Hello\"\n",
    "\n",
    "# print(hashlib.algorithms_available)\n",
    "h1 = hashlib.new('sha3_512')\n",
    "h2 = hashlib.new('blake2s')\n",
    "h3 = hashlib.new('ripemd160')\n",
    "\n",
    "h1.update(msg.encode())\n",
    "h2.update(msg.encode())\n",
    "h3.update(msg.encode())\n",
    "\n",
    "print(f\"SHA3-256   of '{msg}': {h1.hexdigest()}\")\n",
    "print(f\"BLAKE2s    of '{msg}': {h2.hexdigest()}\")\n",
    "print(f\"RIPEMD160  of '{msg}': {h3.hexdigest()}\")"
   ]
  },
  {
   "cell_type": "markdown",
   "metadata": {},
   "source": [
    "# Diffie-Hellman Key Exchange with sign"
   ]
  },
  {
   "cell_type": "code",
   "execution_count": 4,
   "metadata": {},
   "outputs": [],
   "source": [
    "from cryptography.hazmat.primitives import hashes\n",
    "from cryptography.hazmat.primitives.asymmetric import dh, dsa\n",
    "from cryptography.hazmat.primitives.kdf.hkdf import HKDF\n",
    "from cryptography.hazmat.primitives import serialization\n"
   ]
  },
  {
   "cell_type": "code",
   "execution_count": 5,
   "metadata": {},
   "outputs": [
    {
     "name": "stdout",
     "output_type": "stream",
     "text": [
      "Pvt-Pub key pair for encryption generated for both parties\n"
     ]
    }
   ],
   "source": [
    "param = dh.generate_parameters(generator=2, key_size=2048)\n",
    "pvt1 = param.generate_private_key()\n",
    "pub1 = pvt1.public_key()\n",
    "pvt2 = param.generate_private_key()\n",
    "pub2 = pvt2.public_key()\n",
    "print(f\"Pvt-Pub key pair for encryption generated for both parties\")"
   ]
  },
  {
   "cell_type": "code",
   "execution_count": 6,
   "metadata": {},
   "outputs": [
    {
     "name": "stdout",
     "output_type": "stream",
     "text": [
      "Signing key generated for both parties\n"
     ]
    }
   ],
   "source": [
    "sign_pvt1 = dsa.generate_private_key(key_size=2048)\n",
    "sign_pub1 = sign_pvt1.public_key()\n",
    "sign_pvt2 = dsa.generate_private_key(key_size=2048)\n",
    "sign_pub2 = sign_pvt2.public_key()\n",
    "print(f\"Signing key generated for both parties\")"
   ]
  },
  {
   "cell_type": "code",
   "execution_count": 7,
   "metadata": {},
   "outputs": [
    {
     "name": "stdout",
     "output_type": "stream",
     "text": [
      "Signatures generated\n"
     ]
    }
   ],
   "source": [
    "pub1_bytes = pub1.public_bytes(\n",
    "    encoding=serialization.Encoding.PEM,\n",
    "    format=serialization.PublicFormat.SubjectPublicKeyInfo,\n",
    ")\n",
    "pub2_bytes = pub2.public_bytes(\n",
    "    encoding=serialization.Encoding.PEM,\n",
    "    format=serialization.PublicFormat.SubjectPublicKeyInfo,\n",
    ")\n",
    "sign1 = sign_pvt1.sign(pub1_bytes, hashes.SHA3_256())\n",
    "sign2 = sign_pvt2.sign(pub2_bytes, hashes.SHA3_256())\n",
    "print(f\"Signatures generated\")"
   ]
  },
  {
   "cell_type": "code",
   "execution_count": 8,
   "metadata": {},
   "outputs": [
    {
     "name": "stdout",
     "output_type": "stream",
     "text": [
      "Signatures verified\n"
     ]
    }
   ],
   "source": [
    "sign_pub1.verify(\n",
    "    signature=sign1,\n",
    "    data=pub1_bytes,\n",
    "    algorithm=hashes.SHA3_256(),\n",
    ")\n",
    "sign_pub2.verify(\n",
    "    signature=sign2,\n",
    "    data=pub2_bytes,\n",
    "    algorithm=hashes.SHA3_256(),\n",
    ")\n",
    "print(\"Signatures verified\")"
   ]
  },
  {
   "cell_type": "code",
   "execution_count": 9,
   "metadata": {},
   "outputs": [
    {
     "name": "stdout",
     "output_type": "stream",
     "text": [
      " Shared secrets match: True\n"
     ]
    }
   ],
   "source": [
    "shared1 = pvt1.exchange(pub2)\n",
    "shared2 = pvt2.exchange(pub1)\n",
    "print(f\" Shared secrets match: {shared1==shared2}\")"
   ]
  },
  {
   "cell_type": "markdown",
   "metadata": {},
   "source": [
    "# Key Derivation"
   ]
  },
  {
   "cell_type": "markdown",
   "metadata": {},
   "source": [
    "## PBKDF2"
   ]
  },
  {
   "cell_type": "code",
   "execution_count": 10,
   "metadata": {},
   "outputs": [
    {
     "name": "stdout",
     "output_type": "stream",
     "text": [
      "Password: a secret\n",
      "Random salt: 4e5a6f5ec739efb9614abff69763e69b\n",
      "Key: 9624007fed51c5446e8a715cadb60975e13985c759c31866bed472a25e00c2a6815fa7a473104c5c41e9527cfddfa9976bab7d1e94c1a0413cc537af863e6216\n"
     ]
    }
   ],
   "source": [
    "from Crypto.Protocol.KDF import PBKDF2\n",
    "from Crypto.Hash import SHA3_512\n",
    "from Crypto.Random import get_random_bytes\n",
    "\n",
    "password_ = \"a secret\"\n",
    "salt_ = get_random_bytes(16)\n",
    "key = PBKDF2(\n",
    "    password=password_,\n",
    "    salt=salt_,\n",
    "    dkLen=64,\n",
    "    count=1000000,\n",
    "    hmac_hash_module=SHA3_512,\n",
    ")\n",
    "print(f\"Password: {password_}\")\n",
    "print(f\"Random salt: {salt_.hex()}\")\n",
    "print(f\"Key: {key.hex()}\")"
   ]
  },
  {
   "cell_type": "markdown",
   "metadata": {},
   "source": [
    "## Scrypt"
   ]
  },
  {
   "cell_type": "code",
   "execution_count": 11,
   "metadata": {},
   "outputs": [
    {
     "name": "stdout",
     "output_type": "stream",
     "text": [
      "Password: some secret\n",
      "Random salt: 2a5f48529378f1dbfea91c2ecd35460f\n",
      "Key: d32f1c3909b63165c0c70919c50a9dd0634a2c81c5cc576061a036bada0866b82af8f3e0651ec1f34ec9ba1502ce8f17abd9e2b29399a7d448efe5997306a0f9\n"
     ]
    }
   ],
   "source": [
    "from Crypto.Protocol.KDF import scrypt\n",
    "from Crypto.Random import get_random_bytes\n",
    "\n",
    "password_ = \"some secret\"\n",
    "salt_ = get_random_bytes(16)\n",
    "key = scrypt(\n",
    "    password=password_,\n",
    "    salt=salt_,\n",
    "    key_len=64,\n",
    "    N=(1 << 10),\n",
    "    r=8,\n",
    "    p=1,\n",
    ")\n",
    "print(f\"Password: {password_}\")\n",
    "print(f\"Random salt: {salt_.hex()}\")\n",
    "print(f\"Key: {key.hex()}\")"
   ]
  },
  {
   "cell_type": "markdown",
   "metadata": {},
   "source": [
    "# Encryption and Decryption"
   ]
  },
  {
   "cell_type": "markdown",
   "metadata": {},
   "source": [
    "## AES-256-GCM"
   ]
  },
  {
   "cell_type": "code",
   "execution_count": 12,
   "metadata": {},
   "outputs": [
    {
     "name": "stdout",
     "output_type": "stream",
     "text": [
      "Cipher text: 10f4b44af10daaa092e7ec70bdd056acd1a337822a54e302eec4eac7c1cd11d48c15\n",
      "Auth Tag: e6e0cd9bd250d7c6a3e7e499d7f410b6\n",
      "Nonce: 1b4c2a003ec9e4714f160913a9c4eb4c\n",
      "Password: something\n",
      "Tag verified!\n",
      "Plain text: b'Message for aes-256-gcm encryption'\n"
     ]
    }
   ],
   "source": [
    "from Crypto.Cipher import AES\n",
    "import hashlib\n",
    "\n",
    "msg = \"Message for aes-256-gcm encryption\"\n",
    "pwd = \"something\"\n",
    "hasher = hashlib.new('sha3_256')\n",
    "hasher.update(pwd.encode())\n",
    "pwd_hash = hasher.digest()\n",
    "\n",
    "aes_cipher = AES.new(pwd_hash, AES.MODE_GCM)\n",
    "ct, auth_tag = aes_cipher.encrypt_and_digest(msg.encode())\n",
    "iv = aes_cipher.nonce\n",
    "\n",
    "aes_decipher = AES.new(pwd_hash, AES.MODE_GCM, iv)\n",
    "pt = aes_decipher.decrypt(ct)\n",
    "\n",
    "print(f\"Cipher text: {ct.hex()}\")\n",
    "print(f\"Auth Tag: {auth_tag.hex()}\")\n",
    "print(f\"Nonce: {iv.hex()}\")\n",
    "print(f\"Password: {pwd}\")\n",
    "\n",
    "try:\n",
    "    aes_decipher.verify(auth_tag)\n",
    "    print(f\"Tag verified!\")\n",
    "    print(f\"Plain text: {pt}\")\n",
    "except:\n",
    "    print(f\"Msg tampered!\")\n",
    "    print(f\"Plain text: {pt}\")\n"
   ]
  },
  {
   "cell_type": "markdown",
   "metadata": {},
   "source": [
    "## AES-256-CBC"
   ]
  },
  {
   "cell_type": "code",
   "execution_count": 13,
   "metadata": {},
   "outputs": [
    {
     "name": "stdout",
     "output_type": "stream",
     "text": [
      "Cipher text: 311bc41aad612354d8e1255e661ca625644a6bef032a66a5710ccf7904fc442bd672cbd0bf55d438a3304c939454ad7d\n",
      "IV: 8226331234cc0e9fe949b6a0a2f54a31\n",
      "Password: something\n",
      "Pwd hash: 3fc9b689459d738f8c88a3a48aa9e33542016b7a4052e001aaa536fca74813cb\n",
      "Plain Text: b'Message for aes-256-cbc encryption'\n"
     ]
    }
   ],
   "source": [
    "from Crypto.Cipher import AES\n",
    "from Crypto.Util.Padding import pad, unpad\n",
    "\n",
    "msg = \"Message for aes-256-cbc encryption\"\n",
    "pwd = \"something\"\n",
    "hasher = hashlib.new(\"sha256\")\n",
    "hasher.update(pwd.encode())\n",
    "pwd_hash = hasher.digest()\n",
    "\n",
    "aes_cipher = AES.new(pwd_hash, AES.MODE_CBC)\n",
    "ct = aes_cipher.encrypt(pad(msg.encode(), AES.block_size, style=\"pkcs7\"))\n",
    "iv = aes_cipher.iv\n",
    "\n",
    "aes_decipher = AES.new(pwd_hash, AES.MODE_CBC, iv)\n",
    "pt = unpad(aes_decipher.decrypt(ct), AES.block_size, \"pkcs7\")\n",
    "\n",
    "print(f\"Cipher text: {ct.hex()}\")\n",
    "print(f\"IV: {iv.hex()}\")\n",
    "print(f\"Password: {pwd}\")\n",
    "print(f\"Pwd hash: {pwd_hash.hex()}\")\n",
    "print(f\"Plain Text: {pt}\")"
   ]
  },
  {
   "cell_type": "markdown",
   "metadata": {},
   "source": [
    "## AES-256-CTR"
   ]
  },
  {
   "cell_type": "code",
   "execution_count": 14,
   "metadata": {},
   "outputs": [
    {
     "name": "stdout",
     "output_type": "stream",
     "text": [
      "Cipher text: 6c9d0e0ffd0ac820fd6b65cc6d1b8971513f2d4575d0deaccc2427ae11429435c4e8\n",
      "IV: 041ea6949d1ec562\n",
      "Password: something\n",
      "Plain Text: b'Message for aes-256-cbc encryption'\n"
     ]
    }
   ],
   "source": [
    "from Crypto.Cipher import AES\n",
    "\n",
    "msg = \"Message for aes-256-cbc encryption\"\n",
    "pwd = \"something\"\n",
    "hasher = hashlib.new(\"sha3_256\")\n",
    "hasher.update(pwd.encode())\n",
    "pwd_hash = hasher.digest()\n",
    "\n",
    "aes_cipher = AES.new(pwd_hash, AES.MODE_CTR)\n",
    "ct = aes_cipher.encrypt(msg.encode())\n",
    "nonce = aes_cipher.nonce\n",
    "\n",
    "aes_decipher = AES.new(pwd_hash, AES.MODE_CTR, nonce=nonce)\n",
    "pt = aes_decipher.decrypt(ct)\n",
    "\n",
    "print(f\"Cipher text: {ct.hex()}\")\n",
    "print(f\"IV: {nonce.hex()}\")\n",
    "print(f\"Password: {pwd}\")\n",
    "print(f\"Plain Text: {pt}\")"
   ]
  },
  {
   "cell_type": "markdown",
   "metadata": {},
   "source": [
    "## DES"
   ]
  },
  {
   "cell_type": "code",
   "execution_count": 15,
   "metadata": {},
   "outputs": [],
   "source": [
    "# from Crypto.Cipher import DES3\n",
    "\n",
    "\n",
    "# while True:\n",
    "#     try:\n",
    "#         key = DES3.adjust_key_parity(get_random_bytes(24))\n",
    "#     except:\n",
    "#         pass\n",
    "\n",
    "# des_cipher = DES3.new(key, DES3.MODE_CBC)\n"
   ]
  },
  {
   "cell_type": "markdown",
   "metadata": {},
   "source": [
    "## ChaCha20"
   ]
  },
  {
   "cell_type": "code",
   "execution_count": 16,
   "metadata": {},
   "outputs": [
    {
     "name": "stdout",
     "output_type": "stream",
     "text": [
      "Cipher text: eb727d73702beb6ce255438b3c00073f7f8a98791b59e1906fa5d9b71baedf\n",
      "IV: 8a166a4f9feb33a2\n",
      "Password: something\n",
      "Plain Text: b'Message for ChaCha20 encryption'\n"
     ]
    }
   ],
   "source": [
    "from Crypto.Cipher import ChaCha20\n",
    "\n",
    "msg = \"Message for ChaCha20 encryption\"\n",
    "pwd = \"something\"\n",
    "hasher = hashlib.new(\"sha3_256\")\n",
    "hasher.update(pwd.encode())\n",
    "pwd_hash = hasher.digest()\n",
    "\n",
    "chacha_cipher = ChaCha20.new(key=pwd_hash)\n",
    "ct = chacha_cipher.encrypt(msg.encode())\n",
    "nonce = chacha_cipher.nonce\n",
    "\n",
    "chacha_decipher = ChaCha20.new(key=pwd_hash, nonce=chacha_cipher.nonce)\n",
    "pt = chacha_decipher.decrypt(ct)\n",
    "\n",
    "print(f\"Cipher text: {ct.hex()}\")\n",
    "print(f\"IV: {nonce.hex()}\")\n",
    "print(f\"Password: {pwd}\")\n",
    "print(f\"Plain Text: {pt}\")"
   ]
  },
  {
   "cell_type": "markdown",
   "metadata": {},
   "source": [
    "## RSA with PKCS1 OEAP"
   ]
  },
  {
   "cell_type": "code",
   "execution_count": 17,
   "metadata": {},
   "outputs": [
    {
     "name": "stdout",
     "output_type": "stream",
     "text": [
      "Pub key: (n,e): (121891468033421275176841576625675901417688061675911861900935385724088184683240967476256378538917702221456990577045011239021218577430315529661225982105062543784590704132012730389451581961316257055552040108955868702597217049200425453435614751434526143805735098399838468645102143538028609922029889226473784792203,65537)\n",
      "Pvt key: (n,d): (121891468033421275176841576625675901417688061675911861900935385724088184683240967476256378538917702221456990577045011239021218577430315529661225982105062543784590704132012730389451581961316257055552040108955868702597217049200425453435614751434526143805735098399838468645102143538028609922029889226473784792203,50538731722113558911459422336229782706300833115942948615806601405017749399540821356368380823626512084221902207150832207728818414094541463409745542391944457336213641861721447508098874565188267472366552121459858660112519982402120192439358938481002484187561712442304535969525957583731698388701547028397977005425)\n",
      "Cipher text: 41b3ba9f3044f5606de02c531971217bbd13821f88bfa52c1695049824278dcc858429ef5e0276deda8bfb80e23a3f71a154549c5cbe9909d39218ece4fdcb46d0ad846f9d434d08a1a9c0dee7f67d19764cc95956c90421566599da286592ddff82cfa290a1e5340ee31482720ed8b91e464c1597e9daa203056a111f333467\n",
      "Plain text: b'Message for ChaCha20 encryption'\n"
     ]
    }
   ],
   "source": [
    "from Crypto.PublicKey import RSA\n",
    "from Crypto.Cipher import PKCS1_OAEP\n",
    "\n",
    "msg = \"Message for ChaCha20 encryption\"\n",
    "\n",
    "key_pair = RSA.generate(1024)\n",
    "pub_key = key_pair.public_key()\n",
    "# print(pub_key.export_key())\n",
    "\n",
    "n = key_pair.n\n",
    "e = key_pair.e\n",
    "d = key_pair.d\n",
    "\n",
    "key_pair1 = RSA.construct((n, e, d))\n",
    "key_pair2 = RSA.import_key(key_pair.export_key())\n",
    "# print(f\"Is key_pair == key pair_1: {key_pair==key_pair1}\")\n",
    "# print(f\"Is key_pair == key pair_2: {key_pair==key_pair2}\")\n",
    "\n",
    "rsa_cipher = PKCS1_OAEP.new(key=pub_key)\n",
    "ct = rsa_cipher.encrypt(msg.encode())\n",
    "\n",
    "rsa_decipher = PKCS1_OAEP.new(key=key_pair)\n",
    "pt = rsa_decipher.decrypt(ct)\n",
    "\n",
    "print(f\"Pub key: (n,e): ({pub_key.n},{pub_key.e})\")\n",
    "print(f\"Pvt key: (n,d): ({key_pair.n},{key_pair.d})\")\n",
    "print(f\"Cipher text: {ct.hex()}\")\n",
    "print(f\"Plain text: {pt}\")"
   ]
  },
  {
   "cell_type": "markdown",
   "metadata": {},
   "source": [
    "## ECC with AES-256-GCM (hybrid)"
   ]
  },
  {
   "cell_type": "code",
   "execution_count": 18,
   "metadata": {},
   "outputs": [
    {
     "name": "stdout",
     "output_type": "stream",
     "text": [
      "Msg verified: b'I am ironman'\n"
     ]
    }
   ],
   "source": [
    "from Crypto.PublicKey import ECC\n",
    "from Crypto.PublicKey.ECC import EccPoint\n",
    "from Crypto.Hash import SHA3_256\n",
    "from Crypto.Cipher import AES\n",
    "\n",
    "# key_pair = ECC.generate(curve=\"p521\")\n",
    "# pub_key = key_pair.public_key()\n",
    "pvt1 = ECC.generate(curve=\"p521\")\n",
    "pvt2 = ECC.generate(curve=\"p521\")\n",
    "pub1 = pvt1.public_key()\n",
    "pub2 = pvt2.public_key()\n",
    "\n",
    "shared1 = pub2.pointQ * pvt1.d\n",
    "shared2 = pub1.pointQ * pvt2.d\n",
    "assert shared1 == shared2\n",
    "\n",
    "\n",
    "def get_key(a: EccPoint):\n",
    "    hasher = SHA3_256.new(a.x.to_bytes())\n",
    "    hasher.update(a.y.to_bytes())\n",
    "    return hasher.hexdigest()\n",
    "\n",
    "msg = \"I am ironman\"\n",
    "key = get_key(shared1)\n",
    "\n",
    "aes_cipher = AES.new(bytes.fromhex(key), AES.MODE_GCM)\n",
    "ct, auth_tag = aes_cipher.encrypt_and_digest(msg.encode())\n",
    "nonce_ = aes_cipher.nonce\n",
    "\n",
    "aes_decipher = AES.new(bytes.fromhex(key), AES.MODE_GCM, nonce=nonce_)\n",
    "pt = aes_decipher.decrypt(ct)\n",
    "\n",
    "try:\n",
    "    aes_decipher.verify(auth_tag)\n",
    "    print(f\"Msg verified: {pt}\")\n",
    "except:\n",
    "    print(f\"Msg not verified: {pt}\")\n"
   ]
  },
  {
   "cell_type": "markdown",
   "metadata": {},
   "source": [
    "# Signatures"
   ]
  },
  {
   "cell_type": "markdown",
   "metadata": {},
   "source": [
    "## with RSA, PKCS1 v1.5"
   ]
  },
  {
   "cell_type": "code",
   "execution_count": 19,
   "metadata": {},
   "outputs": [
    {
     "name": "stdout",
     "output_type": "stream",
     "text": [
      "Signature validity: True\n"
     ]
    }
   ],
   "source": [
    "from Crypto.Signature import PKCS1_v1_5\n",
    "from Crypto.Hash import SHA3_256\n",
    "from Crypto.PublicKey import RSA\n",
    "\n",
    "key = RSA.generate(1024)\n",
    "msg = \"I am inevitable\"\n",
    "\n",
    "pwd = b\"something\"\n",
    "with open(\"rsa_key.pem\", \"wb\") as f:\n",
    "    data = key.export_key(\n",
    "        passphrase=pwd,\n",
    "        pkcs=8,\n",
    "        protection=\"PBKDF2WithHMAC-SHA512AndAES256-CBC\",\n",
    "        prot_params={\"iteration_count\": 131072},\n",
    "    )\n",
    "    f.write(data)\n",
    "\n",
    "with open(\"rsa_key.pem\", \"rb\") as f:\n",
    "    data = f.read()\n",
    "    key_pair = RSA.import_key(data, pwd)\n",
    "\n",
    "# assert key_pair == key\n",
    "\n",
    "# Sender's side\n",
    "pub_key = key_pair.public_key()\n",
    "signer = PKCS1_v1_5.new(key_pair)\n",
    "sign = signer.sign(SHA3_256.new(msg.encode()))\n",
    "\n",
    "# Receiver's side\n",
    "validator = PKCS1_v1_5.new(pub_key)\n",
    "val = validator.verify(SHA3_256.new(msg.encode()), sign)\n",
    "print(f\"Signature validity: {val}\")"
   ]
  },
  {
   "cell_type": "markdown",
   "metadata": {},
   "source": [
    "## with ECC, DSS"
   ]
  },
  {
   "cell_type": "code",
   "execution_count": 20,
   "metadata": {},
   "outputs": [
    {
     "name": "stdout",
     "output_type": "stream",
     "text": [
      "Signature is valid!\n"
     ]
    }
   ],
   "source": [
    "from Crypto.PublicKey import ECC\n",
    "from Crypto.Hash import SHA3_256\n",
    "from Crypto.Signature import DSS\n",
    "\n",
    "ecc_key = ECC.generate(curve=\"p256\")\n",
    "\n",
    "pwd = \"something\"\n",
    "with open(\"ecc_key.pem\", \"wt\") as f:\n",
    "    data = ecc_key.export_key(\n",
    "        format=\"PEM\",\n",
    "        passphrase=pwd.encode(),\n",
    "        protection=\"PBKDF2WithHMAC-SHA512AndAES256-CBC\",\n",
    "        prot_params={\"iteration_count\": 131072},\n",
    "    )\n",
    "    f.write(data)\n",
    "with open(\"ecc_key.pem\", \"rt\") as f:\n",
    "    data = f.read()\n",
    "    key_pair = ECC.import_key(data, pwd.encode())\n",
    "\n",
    "msg = \"I am inevitable\"\n",
    "\n",
    "# Sender's side\n",
    "pub_key = key_pair.public_key()\n",
    "signer = DSS.new(key=key_pair, mode=\"fips-186-3\")\n",
    "sign = signer.sign(SHA3_256.new(msg.encode()))\n",
    "\n",
    "# Receiver's side\n",
    "verifier = DSS.new(key=pub_key, mode='fips-186-3')\n",
    "try:\n",
    "    verifier.verify(SHA3_256.new(msg.encode()), sign)\n",
    "    print(\"Signature is valid!\")\n",
    "except:\n",
    "    print(\"Invalid Sign\")"
   ]
  }
 ],
 "metadata": {
  "kernelspec": {
   "display_name": "Python 3",
   "language": "python",
   "name": "python3"
  },
  "language_info": {
   "codemirror_mode": {
    "name": "ipython",
    "version": 3
   },
   "file_extension": ".py",
   "mimetype": "text/x-python",
   "name": "python",
   "nbconvert_exporter": "python",
   "pygments_lexer": "ipython3",
   "version": "3.12.3"
  }
 },
 "nbformat": 4,
 "nbformat_minor": 2
}
